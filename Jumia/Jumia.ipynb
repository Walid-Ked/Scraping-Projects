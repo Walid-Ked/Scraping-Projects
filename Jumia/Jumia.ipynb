{
 "cells": [
  {
   "cell_type": "code",
   "execution_count": 13,
   "id": "074b20e8",
   "metadata": {
    "ExecuteTime": {
     "end_time": "2021-08-04T11:17:36.298225Z",
     "start_time": "2021-08-04T11:17:36.293225Z"
    }
   },
   "outputs": [],
   "source": [
    "import pandas as pd\n",
    "from bs4 import BeautifulSoup\n",
    "import requests\n",
    "import json\n",
    "import pickle\n",
    "import re"
   ]
  },
  {
   "cell_type": "markdown",
   "id": "dfe6bb05",
   "metadata": {},
   "source": [
    "## Getting Category Products Details"
   ]
  },
  {
   "cell_type": "code",
   "execution_count": null,
   "id": "0e5e7727",
   "metadata": {},
   "outputs": [],
   "source": [
    "category = \"electromenager\"\n",
    "products = []\n",
    "num_pages = 100\n",
    "for page in range(1,num_pages):\n",
    "    try:\n",
    "        print(\"current page:\", page)\n",
    "        url = f\"https://www.jumia.dz/{category}/?page={page}#catalog-listing\"\n",
    "        req = requests.get(url)\n",
    "        s = BeautifulSoup(req.content, \"html.parser\")\n",
    "        script_tags = s.find_all(\"script\")\n",
    "        \n",
    "        for script_tag in script_tags:\n",
    "            sc = script_tag.string\n",
    "            if \"window.__STORE__=\" in sc:\n",
    "                # print(sc)\n",
    "                data = sc.split('__=')[1][:-1]\n",
    "                data = json.loads(data)\n",
    "                data = data[\"products\"]\n",
    "                # print(data)\n",
    "                print(\"products: \", len(data))\n",
    "                for product in data:\n",
    "                    try:\n",
    "                        old_price = product[\"prices\"][\"oldPrice\"]\n",
    "                    except:\n",
    "                        old_price = 0\n",
    "                    new_product = {\n",
    "                        \"sku\": product[\"sku\"],\n",
    "                        \"name\": product[\"name\"],\n",
    "                        \"brand\": product[\"brand\"],\n",
    "                        \"old_price\": old_price,\n",
    "                        \"new_price\": product[\"prices\"][\"price\"],\n",
    "                        \"rating\": product[\"rating\"][\"average\"],\n",
    "                        \"image\": product[\"image\"],\n",
    "                        \"url\": product[\"url\"]\n",
    "                    }\n",
    "                    # print(new_product)\n",
    "                    products.append(new_product)\n",
    "                break\n",
    "        print(len(products))\n",
    "        \n",
    "    except Exception as e:\n",
    "        print(e)\n",
    "        break"
   ]
  },
  {
   "cell_type": "code",
   "execution_count": 85,
   "id": "9eaaa8de",
   "metadata": {},
   "outputs": [],
   "source": [
    "df = pd.DataFrame(products)\n",
    "df.to_csv('electromenager_products.csv',index=False)"
   ]
  },
  {
   "cell_type": "markdown",
   "id": "ce14aa96",
   "metadata": {},
   "source": [
    "## Get Product Reviews"
   ]
  },
  {
   "cell_type": "code",
   "execution_count": null,
   "id": "31c14f7e",
   "metadata": {
    "ExecuteTime": {
     "end_time": "2021-08-03T19:39:20.697216Z",
     "start_time": "2021-08-03T19:39:20.668215Z"
    }
   },
   "outputs": [],
   "source": [
    "for product in products:\n",
    "    p_sku = product[\"sku\"]\n",
    "    p_link = f\"https://www.jumia.dz/catalog/productratingsreviews/sku/{p_sku}/\"\n",
    "    req = requests.get(p_link)\n",
    "    s = BeautifulSoup(req.content, \"html.parser\")\n",
    "    try:\n",
    "        num_pages = s.select('a[aria-label=\"Dernière page\"]')[0][\"href\"].split(\"=\")[1]\n",
    "    except:\n",
    "        print(\"only one page for \", p_link)\n",
    "    print(num_pages)\n",
    "    num_reviews = 0\n",
    "    product_reviews = []\n",
    "\n",
    "    for page in range(1,int(num_pages)):\n",
    "        p_link = f\"https://www.jumia.dz/catalog/productratingsreviews/sku/{p_sku}/?page={page}\"\n",
    "        req = requests.get(p_link)\n",
    "        s = BeautifulSoup(req.content, \"html.parser\")\n",
    "        for review in s.find_all(\"article\")[1:]:\n",
    "            # print(review)\n",
    "            new_review = {\n",
    "                \"reviewer\": review.select(\"span:nth-of-type(2)\")[0].text.split(\"par \")[1],\n",
    "                \"title\": review.select(\"h3\")[0].text,\n",
    "                \"review\": review.select(\"p.-pvs\")[0].text\n",
    "            }\n",
    "            num_reviews += 1\n",
    "            product_reviews.append(new_review)\n",
    "    print(\"num reviews: \" ,num_reviews)\n",
    "    product[\"reviews\"] = product_reviews\n",
    "    \n",
    "\n",
    "        "
   ]
  },
  {
   "cell_type": "code",
   "execution_count": 131,
   "id": "5c185fd7",
   "metadata": {},
   "outputs": [
    {
     "name": "stdout",
     "output_type": "stream",
     "text": [
      "{'sku': 'SO672HL0Y7ZB8NAFAMZ', 'name': 'Panineuse Mini & Grill A 2 Tranches - Sgt-853 - Noir & Silver', 'brand': 'Sonashi', 'old_price': '4,500 DA', 'new_price': '3,430 DA', 'rating': 4.1, 'image': 'https://dz.jumia.is/unsafe/fit-in/300x300/filters:fill(white)/product/57/4793/1.jpg?9985', 'url': '/panineuse-mini-grill-a-2-tranches-sgt-853-noir-silver-sonashi-mpg22062.html', 'reviews': [{'reviewer': 'Mehdi', 'title': 'Excellent', 'review': 'Excellent'}, {'reviewer': 'Ouafa', 'title': 'صغيرة بصح هايلة', 'review': 'سهلة التنقل'}, {'reviewer': 'Yazid', 'title': 'un peu déçu par sa taille', 'review': 'Le produit est bon. Mais il est trop petit.'}, {'reviewer': 'Kheira', 'title': 'ارضاءزبنائكم..وانا.من بينهم', 'review': 'الصدق في تعملاتكم شكرا'}, {'reviewer': 'Sif', 'title': 'panineuse sonashi 750w', 'review': 'جيد وسهل الاستعمال وسعر مقبول'}, {'reviewer': 'Nabil', 'title': 'nabiltgr63@gmail.com', 'review': 'صغيرة شويا هدا مكان'}, {'reviewer': 'زهيرة', 'title': 'hassanine.zahira@gmail.com', 'review': 'سهل الإستعمال'}, {'reviewer': 'Kamila', 'title': \"j'adore\", 'review': 'Elle est magnifique'}, {'reviewer': 'Abdelmalek', 'title': 'satisfaisant', 'review': 'Satisfait'}, {'reviewer': 'Farida', 'title': 'grill', 'review': 'Ça va par rapport au prix'}]}\n"
     ]
    }
   ],
   "source": [
    "print(products[2])"
   ]
  },
  {
   "cell_type": "markdown",
   "id": "a51b8c4a",
   "metadata": {},
   "source": [
    "## Saving Data"
   ]
  },
  {
   "cell_type": "code",
   "execution_count": 132,
   "id": "858a7fd7",
   "metadata": {
    "ExecuteTime": {
     "end_time": "2021-08-03T22:04:11.745410Z",
     "start_time": "2021-08-03T22:04:11.698407Z"
    }
   },
   "outputs": [],
   "source": [
    "with open('jumia_electromenager.pickle', 'wb') as f:\n",
    "    pickle.dump(products, f)"
   ]
  },
  {
   "cell_type": "markdown",
   "id": "0ba6729f",
   "metadata": {},
   "source": [
    "## Loading Data "
   ]
  },
  {
   "cell_type": "code",
   "execution_count": 133,
   "id": "17f713fa",
   "metadata": {
    "ExecuteTime": {
     "end_time": "2021-08-03T22:07:01.288107Z",
     "start_time": "2021-08-03T22:07:01.247104Z"
    }
   },
   "outputs": [],
   "source": [
    "with open('jumia_electromenager.pickle', 'rb') as f:\n",
    "    all_products= pickle.load(f)"
   ]
  },
  {
   "cell_type": "code",
   "execution_count": 134,
   "id": "c3d86d83",
   "metadata": {
    "ExecuteTime": {
     "end_time": "2021-08-03T22:24:46.480032Z",
     "start_time": "2021-08-03T22:24:46.154014Z"
    }
   },
   "outputs": [],
   "source": [
    "with open(\"electromenager.json\", \"w\") as outfile:\n",
    "    json.dump(all_products, outfile)"
   ]
  }
 ],
 "metadata": {
  "kernelspec": {
   "display_name": "Python 3",
   "language": "python",
   "name": "python3"
  },
  "language_info": {
   "codemirror_mode": {
    "name": "ipython",
    "version": 3
   },
   "file_extension": ".py",
   "mimetype": "text/x-python",
   "name": "python",
   "nbconvert_exporter": "python",
   "pygments_lexer": "ipython3",
   "version": "3.8.10"
  }
 },
 "nbformat": 4,
 "nbformat_minor": 5
}
